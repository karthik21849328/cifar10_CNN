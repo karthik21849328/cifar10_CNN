{
 "cells": [
  {
   "cell_type": "markdown",
   "id": "c3a7a7d9-6daa-4b76-b6f1-1b8970abf489",
   "metadata": {},
   "source": [
    "IMAGE CLASSIFICATION USING BUILT-IN CIFAR 10 DATASET WITH IMPLEMENTING CNN OF DEEP LEARNING "
   ]
  },
  {
   "cell_type": "code",
   "execution_count": 95,
   "id": "93af7366-95b6-4c1f-9256-60ece2c37a6f",
   "metadata": {},
   "outputs": [],
   "source": [
    "from keras.datasets import cifar10   #importing dataset from keras\n",
    "from keras.models import Model        #Model will help in training the model \n",
    "from keras.layers import Input,Convolution2D,MaxPooling2D,Activation,Flatten,Dropout,Dense\n",
    "import numpy as np\n",
    "from keras.utils import to_categorical #helps in converting categorical data into numerical type \n",
    "\n",
    "batch_size = 32 # in each iteration, we consider 32 training examples at once\n",
    "num_epochs = 2 # we iterate 20 times over the entire training set\n",
    "kernel_size = (3,3) # we will use 3x3 kernels throughout\n",
    "pool_size = 2 # we will use 2x2 pooling throughout\n",
    "conv_depth_1 = 32 # we will initially have 32 kernels per conv. layer...\n",
    "conv_depth_2 = 64 # switching to 64 after the first pooling layer\n",
    "drop_prob_1 = 0.25 # dropout after pooling with probability 0.25\n",
    "drop_prob_2 = 0.5 # dropout in the FC layer with probability 0.5\n",
    "hidden_size = 512 # the FC layer will have 512 neurons\n",
    "\n",
    "\n"
   ]
  },
  {
   "cell_type": "markdown",
   "id": "ab0c11b0-f619-4b3a-b369-daec048ebf7b",
   "metadata": {},
   "source": [
    "LOADING THE DATSET "
   ]
  },
  {
   "cell_type": "code",
   "execution_count": 96,
   "id": "ac00c76e-0dad-4354-b712-dabbc7c7c084",
   "metadata": {},
   "outputs": [],
   "source": [
    "(X_train,y_train),(X_test,y_test)=cifar10.load_data()"
   ]
  },
  {
   "cell_type": "code",
   "execution_count": 97,
   "id": "dfbb56ea-c543-4c33-bb4b-4c9ce0c90208",
   "metadata": {},
   "outputs": [
    {
     "data": {
      "text/plain": [
       "(50000, 32, 32, 3)"
      ]
     },
     "execution_count": 97,
     "metadata": {},
     "output_type": "execute_result"
    }
   ],
   "source": [
    "X_train.shape"
   ]
  },
  {
   "cell_type": "markdown",
   "id": "a2acae1d-32e7-4341-91e7-49a089c98771",
   "metadata": {},
   "source": [
    "As this is predefined dataset having 60000 records by default it has split dataset into 50000 for tarining and 10000 for testing"
   ]
  },
  {
   "cell_type": "code",
   "execution_count": 98,
   "id": "635142f0-016e-430d-b5fd-dbb78493b595",
   "metadata": {},
   "outputs": [],
   "source": [
    "num_train, depth, height, width = X_train.shape # there are 50000 training examples in CIFAR-10 "
   ]
  },
  {
   "cell_type": "code",
   "execution_count": 99,
   "id": "301da4a0-0606-481f-92ce-7afe45b57a7c",
   "metadata": {},
   "outputs": [
    {
     "name": "stdout",
     "output_type": "stream",
     "text": [
      "in the training set  the height is 32 width is 3 and depth is 32 and number of training records are 50000 \n"
     ]
    }
   ],
   "source": [
    "print(f\"in the training set  the height is {height} width is {width} and depth is {depth} and number of training records are {num_train} \")"
   ]
  },
  {
   "cell_type": "code",
   "execution_count": 100,
   "id": "c8ec3fc8-1907-4517-aaf8-aeff8f0abd80",
   "metadata": {},
   "outputs": [],
   "source": [
    "num_test,depth1,height1,width1=X_test.shape"
   ]
  },
  {
   "cell_type": "code",
   "execution_count": 101,
   "id": "1b19fe3f-1643-48cc-9ffe-d7ca293d7f04",
   "metadata": {},
   "outputs": [
    {
     "name": "stdout",
     "output_type": "stream",
     "text": [
      "in the test set  the height is 32 width is 3 and depth is 32 and number of training records are 10000 \n"
     ]
    }
   ],
   "source": [
    "print(f\"in the test set  the height is {height1} width is {width1} and depth is {depth1} and number of training records are {num_test} \")"
   ]
  },
  {
   "cell_type": "markdown",
   "id": "ab323797-9d6b-4a40-99a9-2bc993155a64",
   "metadata": {},
   "source": [
    "To check how many classes are there "
   ]
  },
  {
   "cell_type": "code",
   "execution_count": 102,
   "id": "091cc595-954d-4f81-bb77-ad37e5e89534",
   "metadata": {},
   "outputs": [],
   "source": [
    "classes=np.unique(y_train).shape[0]"
   ]
  },
  {
   "cell_type": "code",
   "execution_count": 103,
   "id": "f0818999-313d-47d9-afd2-09ec566eea86",
   "metadata": {},
   "outputs": [
    {
     "data": {
      "text/plain": [
       "10"
      ]
     },
     "execution_count": 103,
     "metadata": {},
     "output_type": "execute_result"
    }
   ],
   "source": [
    "classes"
   ]
  },
  {
   "cell_type": "markdown",
   "id": "b7d61a72-ac72-41a5-b32e-abf7e136f05a",
   "metadata": {},
   "source": [
    "There are 10 classes"
   ]
  },
  {
   "cell_type": "code",
   "execution_count": 104,
   "id": "3e928f50-aa87-4b0f-a42d-0e2ec7842f5b",
   "metadata": {},
   "outputs": [
    {
     "data": {
      "text/plain": [
       "dtype('uint8')"
      ]
     },
     "execution_count": 104,
     "metadata": {},
     "output_type": "execute_result"
    }
   ],
   "source": [
    "X_train.dtype"
   ]
  },
  {
   "cell_type": "markdown",
   "id": "407bcac7-d517-403e-a43f-c8fa7c234072",
   "metadata": {},
   "source": [
    "Converting the datatype of X_train and y_train into float type"
   ]
  },
  {
   "cell_type": "code",
   "execution_count": 105,
   "id": "625b5d1c-414f-4bf7-bb22-cd14a7743cd5",
   "metadata": {},
   "outputs": [],
   "source": [
    "X_train=X_train.astype('float32')\n",
    "X_test=X_test.astype('float32')"
   ]
  },
  {
   "cell_type": "markdown",
   "id": "5e66f3a3-745d-4fe3-82d8-9c9d5d8b5129",
   "metadata": {},
   "source": [
    "Normalsising the data to range betweeen 0 to 1 "
   ]
  },
  {
   "cell_type": "code",
   "execution_count": 107,
   "id": "a81bd3fa-b3f8-492a-9899-f3fa3566ece0",
   "metadata": {},
   "outputs": [],
   "source": [
    "X_train/=np.max(X_train)\n",
    "X_test/=np.max(X_train)"
   ]
  },
  {
   "cell_type": "code",
   "execution_count": 108,
   "id": "bfa96645-d771-4398-bd1e-8b24c7c7bd57",
   "metadata": {},
   "outputs": [],
   "source": [
    "y_train=to_categorical(y_train)\n",
    "y_test=to_categorical(y_test)"
   ]
  },
  {
   "cell_type": "markdown",
   "id": "3d643717-a318-4e93-8f77-8c0b5a66f068",
   "metadata": {},
   "source": [
    "implementing different types of layers within the CNN"
   ]
  },
  {
   "cell_type": "markdown",
   "id": "04184813-5843-47aa-8631-f60cb7e32f25",
   "metadata": {},
   "source": [
    "Here we will not be using sequential model, instead we will creating layers and stiching to each other"
   ]
  },
  {
   "cell_type": "code",
   "execution_count": 109,
   "id": "bdadf801-5cc2-4eca-ae41-25306e3eaa2e",
   "metadata": {},
   "outputs": [],
   "source": [
    "#input layer \n",
    "input_layer=Input(shape=(32,32,3))\n",
    "conv_1 = Convolution2D(filters=32, kernel_size=(3, 3), strides=(1, 1), padding='valid', activation='relu')(input_layer)\n",
    "conv_2 = Convolution2D(filters=32, kernel_size=(3, 3), strides=(1, 1), padding='valid', activation='relu')(conv_1)\n",
    "pool_1 = MaxPooling2D(pool_size=(pool_size, pool_size))(conv_2)\n",
    "drop_1 = Dropout(drop_prob_1)(pool_1)\n",
    "conv_3 = Convolution2D(filters=32, kernel_size=(3, 3), strides=(1, 1), padding='valid', activation='relu')(drop_1)\n",
    "conv_4 = Convolution2D(filters=32, kernel_size=(3, 3), strides=(1, 1), padding='valid', activation='relu')(conv_3)\n",
    "pool_2 = MaxPooling2D(pool_size=(pool_size, pool_size))(conv_4)\n",
    "drop_2 = Dropout(drop_prob_1)(pool_2)\n",
    "flat = Flatten()(drop_2)\n",
    "hidden = Dense(hidden_size, activation='relu')(flat)\n",
    "drop_3 = Dropout(drop_prob_2)(hidden)\n",
    "out = Dense(classes, activation='softmax')(drop_3)"
   ]
  },
  {
   "cell_type": "code",
   "execution_count": 110,
   "id": "8926d8e7-92cb-455e-89fe-981a80c5c2fd",
   "metadata": {},
   "outputs": [],
   "source": [
    "model = Model(input_layer,out)"
   ]
  },
  {
   "cell_type": "code",
   "execution_count": 111,
   "id": "049c343d-8373-4ec4-9138-307b42f42a86",
   "metadata": {},
   "outputs": [],
   "source": [
    "model.compile(loss='categorical_crossentropy', # using the cross-entropy loss function\n",
    "              optimizer='adam', # using the Adam optimiser\n",
    "              metrics=['accuracy']) # reporting the accuracy"
   ]
  },
  {
   "cell_type": "code",
   "execution_count": 112,
   "id": "7c0479ad-8d9c-417d-881e-5724c56086d3",
   "metadata": {},
   "outputs": [
    {
     "name": "stdout",
     "output_type": "stream",
     "text": [
      "Epoch 1/2\n",
      "WARNING:tensorflow:From C:\\Users\\abhis\\PycharmProjects\\wwk4\\venv\\Lib\\site-packages\\keras\\src\\utils\\tf_utils.py:492: The name tf.ragged.RaggedTensorValue is deprecated. Please use tf.compat.v1.ragged.RaggedTensorValue instead.\n",
      "\n",
      "WARNING:tensorflow:From C:\\Users\\abhis\\PycharmProjects\\wwk4\\venv\\Lib\\site-packages\\keras\\src\\engine\\base_layer_utils.py:384: The name tf.executing_eagerly_outside_functions is deprecated. Please use tf.compat.v1.executing_eagerly_outside_functions instead.\n",
      "\n",
      "1389/1389 [==============================] - 51s 34ms/step - loss: 1.5820 - accuracy: 0.4173 - val_loss: 1.1824 - val_accuracy: 0.5759\n",
      "Epoch 2/2\n",
      "1389/1389 [==============================] - 49s 35ms/step - loss: 1.2206 - accuracy: 0.5633 - val_loss: 0.9834 - val_accuracy: 0.6573\n"
     ]
    },
    {
     "data": {
      "text/plain": [
       "<keras.src.callbacks.History at 0x1fc1eeca210>"
      ]
     },
     "execution_count": 112,
     "metadata": {},
     "output_type": "execute_result"
    }
   ],
   "source": [
    "model.fit(X_train, y_train, batch_size=36, epochs=num_epochs, validation_data=(X_train, y_train))"
   ]
  },
  {
   "cell_type": "code",
   "execution_count": 113,
   "id": "355b74ab-b8f1-4884-b9f9-538605729a59",
   "metadata": {},
   "outputs": [
    {
     "name": "stdout",
     "output_type": "stream",
     "text": [
      "313/313 [==============================] - 3s 10ms/step - loss: 190.3891 - accuracy: 0.3701\n"
     ]
    }
   ],
   "source": [
    "loss, accuracy = model.evaluate(X_test, y_test)"
   ]
  },
  {
   "cell_type": "code",
   "execution_count": null,
   "id": "e8b633cf-34a3-4992-baf5-d15375aa7dc4",
   "metadata": {},
   "outputs": [],
   "source": []
  }
 ],
 "metadata": {
  "kernelspec": {
   "display_name": "Python 3 (ipykernel)",
   "language": "python",
   "name": "python3"
  },
  "language_info": {
   "codemirror_mode": {
    "name": "ipython",
    "version": 3
   },
   "file_extension": ".py",
   "mimetype": "text/x-python",
   "name": "python",
   "nbconvert_exporter": "python",
   "pygments_lexer": "ipython3",
   "version": "3.11.4"
  }
 },
 "nbformat": 4,
 "nbformat_minor": 5
}
